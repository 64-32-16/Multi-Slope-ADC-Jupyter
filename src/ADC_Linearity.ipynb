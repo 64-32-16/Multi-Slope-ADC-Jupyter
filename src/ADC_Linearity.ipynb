{
 "cells": [
  {
   "cell_type": "markdown",
   "metadata": {},
   "source": [
    "# ADC Simulationn (Linearität)\n",
    "Version: 12.2020\n",
    "\n",
    "Mit dieser Simulation sollen grundsätzlich RunUp und RunDown Funktionen"
   ]
  },
  {
   "cell_type": "markdown",
   "metadata": {},
   "source": [
    "# Library laden\n"
   ]
  },
  {
   "cell_type": "code",
   "execution_count": 1,
   "metadata": {
    "scrolled": true
   },
   "outputs": [],
   "source": [
    "import SimADC_V1 as adc\n",
    "import pandas as pd\n",
    "import plotly.graph_objects as px\n",
    "\n",
    "import plotly.io as pio\n",
    "pio.renderers.default = 'iframe'\n"
   ]
  },
  {
   "cell_type": "markdown",
   "metadata": {},
   "source": [
    "## Simulation starten\n"
   ]
  },
  {
   "cell_type": "markdown",
   "metadata": {},
   "source": [
    "## Diagramm erstellen\n",
    "Vout am Integrator\n",
    "\n",
    "Beipiele und Dokumention finden sie auf der folgenden Seite:\n",
    "https://plotly.com/python/<br>\n",
    "https://plotly.com/python/bar-charts/#basic-bar-chart-with-plotlygraphobjects"
   ]
  },
  {
   "cell_type": "code",
   "execution_count": 2,
   "metadata": {
    "scrolled": true
   },
   "outputs": [],
   "source": [
    "# Ausgabe 100 Werten\n",
    "\n",
    "cpu = adc.CPU()\n",
    "integrator = adc.Integrator()\n",
    "\n",
    "# 0 == keine besondere Form.\n",
    "# z.B. 16 = der Schalter wird nochmal 1/16 umgeschaltet.\n",
    "cpu.WaveForm = 0\n",
    "\n",
    "x_vals = []\n",
    "y_vals= []\n",
    "\n",
    "\n",
    "integrator.VrefN = -7.04580\n",
    "integrator.VrefP = 7.04480\n",
    "integrator.ChargingInjection = 0.000\n",
    "\n",
    "integrator.R_Vin   = 50.0 # k\n",
    "integrator.R_VrefN = 50.01   # k\n",
    "integrator.R_VrefP = 50.000  # k\n",
    "cpu.RunUpCycles = 6250   # Anzahl der Rampen ( PLC 50Hz = 120ms )\n",
    "cpu.RunUpCnt    = 32  # 3,2 us   # 10 Mhz (100 * 0.1us) = 10us\n",
    "\n",
    "integrator.C = 0.33 #nF\n",
    "\n",
    "# Auflösung: 6250 * 32 * 0,1 = 2.000.000\n",
    "# Bei Vin +/-10V = 20V / Aufslösung = 10 uV (theoretisch) \n",
    "\n",
    "cpu.Connect(integrator )\n",
    "#cpu.ResidueADC = adc.ResidueADC(cpu, 16) # Reste ADC mit n bit erzeugen\n",
    "\n",
    "\n",
    "# Kalibration Array mit RunDown-Phase\n",
    "# Parameter: Vadc Vin gemessen ADC\n",
    "# Parameter: Vtrue Vin real\n",
    "calibration_points = [\n",
    "    (-6.998630569886022, -7.0),  # -Vref\n",
    "    (0.00021130173965206957, 0.0),            # 0 V\n",
    "    (6.999017956408719,   7.0)    # +Vref\n",
    "]\n",
    "\n",
    "# Initialisiere die Kalibrierung\n",
    "#cpu.Calibration = adc.ADCCalibration(calibration_points)\n",
    "\n",
    "\n",
    "integrator.Vin = -5.0\n",
    "for a in range(0,200+1):\n",
    "    \n",
    "    cpu.Reset()\n",
    "    \n",
    "    #cpu.AutoZero()\n",
    "    cpu.RunUp()\n",
    "    #cpu.RunUp_V1()\n",
    "    cpu.RunDown()\n",
    "    cpu.CalcVin() # Berechnet den Wert der CPU - Vin \n",
    "    \n",
    "\n",
    "    \n",
    "    delta = (integrator.Vin - cpu.Vin) \n",
    "    x_vals.append( integrator.Vin)\n",
    "    y_vals.append( delta)\n",
    "    \n",
    "\n",
    "    \n",
    "    integrator.Vin = integrator.Vin + 0.05\n",
    "    \n",
    "    \n",
    "    \n",
    "    \n",
    "    "
   ]
  },
  {
   "cell_type": "code",
   "execution_count": 3,
   "metadata": {},
   "outputs": [
    {
     "data": {
      "text/html": [
       "<iframe\n",
       "    scrolling=\"no\"\n",
       "    width=\"100%\"\n",
       "    height=\"545px\"\n",
       "    src=\"iframe_figures/figure_3.html\"\n",
       "    frameborder=\"0\"\n",
       "    allowfullscreen\n",
       "></iframe>\n"
      ]
     },
     "metadata": {},
     "output_type": "display_data"
    }
   ],
   "source": [
    "\n",
    "#print(x_vals)\n",
    "\n",
    "\n",
    "# neues Diagramm erstellen mit Titel\n",
    "fig = px.Figure()\n",
    "\n",
    "\n",
    "# Linie anzeigen\n",
    "fig.add_trace( px.Scatter( x=x_vals, y=y_vals , name=\"Vout\" )  )\n",
    "\n",
    "fig.update_layout(\n",
    "   title_text='Abweichung der Messung',\n",
    "    yaxis_title=\"Delta in [V]\",\n",
    "    xaxis_title=\"Vin in [V]\",\n",
    "    \n",
    "    font=dict(\n",
    "        family=\"Courier New, monospace\",\n",
    "        size=12,\n",
    "        color=\"#7f7f7f\"\n",
    "    )\n",
    ")\n",
    "\n",
    "\n",
    "\n",
    "fig.show()\n",
    "\n",
    "\n"
   ]
  },
  {
   "cell_type": "code",
   "execution_count": null,
   "metadata": {},
   "outputs": [],
   "source": []
  },
  {
   "cell_type": "code",
   "execution_count": null,
   "metadata": {},
   "outputs": [],
   "source": []
  },
  {
   "cell_type": "code",
   "execution_count": null,
   "metadata": {},
   "outputs": [],
   "source": []
  }
 ],
 "metadata": {
  "kernelspec": {
   "display_name": "Python 3 (ipykernel)",
   "language": "python",
   "name": "python3"
  },
  "language_info": {
   "codemirror_mode": {
    "name": "ipython",
    "version": 3
   },
   "file_extension": ".py",
   "mimetype": "text/x-python",
   "name": "python",
   "nbconvert_exporter": "python",
   "pygments_lexer": "ipython3",
   "version": "3.10.6"
  }
 },
 "nbformat": 4,
 "nbformat_minor": 4
}
