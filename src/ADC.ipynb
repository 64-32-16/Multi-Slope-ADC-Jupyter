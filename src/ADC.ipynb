{
 "cells": [
  {
   "cell_type": "markdown",
   "metadata": {},
   "source": [
    "# ADC Simulation\n",
    "Version: 12.2020\n",
    "\n",
    "Mit dieser Simulation sollen grundsätzlich RunUp und RunDown Funktionen"
   ]
  },
  {
   "cell_type": "markdown",
   "metadata": {},
   "source": [
    "# Library laden\n"
   ]
  },
  {
   "cell_type": "code",
   "execution_count": 1,
   "metadata": {
    "scrolled": true
   },
   "outputs": [],
   "source": [
    "import SimADC_V1 as adc\n",
    "import pandas as pd\n",
    "import plotly.graph_objects as px\n",
    "\n",
    "import plotly.io as pio\n",
    "pio.renderers.default = 'iframe'\n"
   ]
  },
  {
   "cell_type": "markdown",
   "metadata": {},
   "source": [
    "## Simulation starten\n"
   ]
  },
  {
   "cell_type": "code",
   "execution_count": 2,
   "metadata": {},
   "outputs": [
    {
     "name": "stdout",
     "output_type": "stream",
     "text": [
      "Simulation startet\n"
     ]
    }
   ],
   "source": [
    "print('Simulation startet')\n",
    "\n",
    "# https://tinyurl.com/y9j2ls63\n",
    "\n",
    "# 100k bei 0,1% = 100R bei 0,01% = 10R\n",
    "# 2.5042\n",
    "integrator = adc.Integrator()\n",
    "integrator.Vin = 6.0\n",
    "\n",
    "integrator.VrefN = -7.0458\n",
    "integrator.VrefP =  7.0448\n",
    "integrator.ChargingInjection = 100.0 # pC \n",
    "\n",
    "integrator.R_VrefN = 20.0  # [kOhm]\n",
    "integrator.R_VrefP = 20.0  # [kOhm]\n",
    "integrator.R_Vin =   40.0  # [kOhm]\n",
    "integrator.C = 2.2 # in nF\n",
    "\n",
    "cpu = adc.CPU()\n",
    "\n",
    "\n",
    "# CPU Ticks = 0.2 us => 5 Mhz\n",
    "# Anzahl der Rampen ( PLC 60Hz = 16,6ms  PLC 50Hz = 20 ms)\n",
    "# Schalterwechsel mit einem Impuls von 200 ns ( 1/ 16)\n",
    "cpu.RunUpCycles = 6250  # (6250 * 10 us = 62.5 ms = 50 Hz)\n",
    "\n",
    "cpu.RunUpCnt    = 50    # => 10us\n",
    "cpu.WaveForm    = 0\n",
    "\n",
    "\n",
    "# Auflösung: 6250 * 200 = 1.250.000\n",
    "# Bei Vin +/-10V = 20V / Aufslösung = 10 uV (theoretisch) \n",
    "\n",
    "\n",
    "cpu.Connect( integrator) # Kontrolle für den Integrator an die CPU übergeben\n",
    "cpu.ResidueADC = adc.ResidueADC(cpu, 12, 3.0) # Reste ADC mit n bit erzeugen\n",
    "\n",
    "# Kalibration Array \n",
    "# Parameter: Vadc Vin gemessen ADC\n",
    "# Parameter: Vtrue Vin real\n",
    "calibration_points = [\n",
    "    (-6.064076321123799, -6.0),  # -Vref\n",
    "    (-0.06420449762620192, 0.0),            # 0 V\n",
    "    (5.935670086298077  ,   6.0)    # +Vref\n",
    "]\n",
    "\n",
    "# Initialisiere die Kalibrierung\n",
    "#cpu.Calibration = adc.ADCCalibration(calibration_points)\n",
    "\n",
    "\n",
    "\n",
    "cpu.Reset()\n",
    "#cpu.AutoZero()\n",
    "cpu.RunUp()\n",
    "cpu.RunDown()\n",
    "cpu.CalcVin()\n",
    "#cpu.CalcVinX()\n",
    "\n",
    "\n",
    "\n",
    "\n",
    "\n"
   ]
  },
  {
   "cell_type": "code",
   "execution_count": null,
   "metadata": {},
   "outputs": [],
   "source": []
  },
  {
   "cell_type": "markdown",
   "metadata": {},
   "source": [
    "## Diagramm erstellen\n",
    "Vout am Integrator\n",
    "\n",
    "Beipiele und Dokumention finden sie auf der folgenden Seite:\n",
    "https://plotly.com/python/<br>\n",
    "https://plotly.com/python/bar-charts/#basic-bar-chart-with-plotlygraphobjects"
   ]
  },
  {
   "cell_type": "code",
   "execution_count": 3,
   "metadata": {},
   "outputs": [
    {
     "data": {
      "text/html": [
       "<iframe\n",
       "    scrolling=\"no\"\n",
       "    width=\"100%\"\n",
       "    height=\"545px\"\n",
       "    src=\"iframe_figures/figure_3.html\"\n",
       "    frameborder=\"0\"\n",
       "    allowfullscreen\n",
       "></iframe>\n"
      ]
     },
     "metadata": {},
     "output_type": "display_data"
    }
   ],
   "source": [
    "In\n",
    "x_vals = [ float(i.Cnt) for i in integrator.RunUpCells]\n",
    "y_vals = [ float(i.Value) for i in integrator.RunUpCells]\n",
    "\n",
    "#print(x_vals)\n",
    "\n",
    "\n",
    "# neues Diagramm erstellen mit Titel\n",
    "fig = px.Figure()\n",
    "\n",
    "\n",
    "# Linie anzeigen\n",
    "fig.add_trace( px.Scatter( x=x_vals, y=y_vals , name=\"Vout\" )  )\n",
    "\n",
    "fig.update_layout(\n",
    "   title_text='Multi-Slope (Runup)',\n",
    "    yaxis_title=\"V\",\n",
    "    xaxis_title=\"Clock\",\n",
    "    \n",
    "    font=dict(\n",
    "        family=\"Courier New, monospace\",\n",
    "        size=12,\n",
    "        color=\"#7f7f7f\"\n",
    "    )\n",
    ")\n",
    "\n",
    "\n",
    "\n",
    "fig.show()\n",
    "\n",
    "\n"
   ]
  },
  {
   "cell_type": "code",
   "execution_count": 4,
   "metadata": {},
   "outputs": [
    {
     "name": "stdout",
     "output_type": "stream",
     "text": [
      "Vin:  6.0  V\n",
      "Vref:  7.0448  V\n",
      "Vout 0.9003181818177803  V\n",
      "RunUp-Time:  62.49999999999999  ms\n",
      "RunDown-Count : 0.0 us (Ticks)\n",
      "RunDown-Count : 0\n",
      "Vin berechnet:  5.8316867555  V\n",
      "Vout-Before :  0.0  V\n",
      "SIGN  :  0  bit\n",
      "calc Vin V1  :  -5.834221568  V\n",
      "calc Vin V2  :  0.0025348125000000006  V\n",
      "CntN : 1831\n",
      "CntP : 4419\n",
      "VAutoZero : mV 0.0\n",
      "Resolution uV: 0.0\n"
     ]
    }
   ],
   "source": [
    "print(\"Vin: \", integrator.Vin, \" V\")\n",
    "print(\"Vref: \", integrator.VrefP, \" V\")\n",
    "print(\"Vout\", integrator.Vout, \" V\")\n",
    "print(\"RunUp-Time: \", cpu.RunUpTime() , \" ms\")\n",
    "print(\"RunDown-Count :\", cpu.RunDownCnt *  0.1 , \"us (Ticks)\")\n",
    "print(\"RunDown-Count :\", cpu.RunDownCnt )\n",
    "print(\"Vin berechnet: \", cpu.Vin , \" V\")\n",
    "print(\"Vout-Before : \", cpu.Vout_Before , \" V\")\n",
    "print(\"SIGN  : \", cpu.RunDown_Sign , \" bit\")\n",
    "\n",
    "\n",
    "\n",
    "print(\"calc Vin V1  : \", cpu.V1 , \" V\")\n",
    "print(\"calc Vin V2  : \", cpu.V2 , \" V\")\n",
    "print(\"CntN :\", cpu.CntN )\n",
    "print(\"CntP :\", cpu.CntP )\n",
    "print(\"VAutoZero : mV\", cpu.VAutoZero  ) \n",
    "print(\"Resolution uV:\", cpu.Resolution * 1000.0 * 1000.0)\n"
   ]
  },
  {
   "cell_type": "code",
   "execution_count": null,
   "metadata": {},
   "outputs": [],
   "source": []
  },
  {
   "cell_type": "code",
   "execution_count": null,
   "metadata": {},
   "outputs": [],
   "source": []
  },
  {
   "cell_type": "code",
   "execution_count": null,
   "metadata": {},
   "outputs": [],
   "source": []
  }
 ],
 "metadata": {
  "kernelspec": {
   "display_name": "Python 3 (ipykernel)",
   "language": "python",
   "name": "python3"
  },
  "language_info": {
   "codemirror_mode": {
    "name": "ipython",
    "version": 3
   },
   "file_extension": ".py",
   "mimetype": "text/x-python",
   "name": "python",
   "nbconvert_exporter": "python",
   "pygments_lexer": "ipython3",
   "version": "3.10.6"
  }
 },
 "nbformat": 4,
 "nbformat_minor": 4
}
